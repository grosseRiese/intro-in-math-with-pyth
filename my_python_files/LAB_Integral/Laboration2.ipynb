{
 "cells": [
  {
   "cell_type": "markdown",
   "id": "1afc4e5f-62db-40ca-a282-379802f3bcc1",
   "metadata": {
    "tags": []
   },
   "source": [
    "# Laboration 2 - Numerisk beräkning av integraler"
   ]
  },
  {
   "cell_type": "markdown",
   "id": "b38ab066-023e-4c4f-9350-3616fa8bd30a",
   "metadata": {},
   "source": [
    "## Inledning"
   ]
  },
  {
   "cell_type": "markdown",
   "id": "2487d95f-3b3d-4409-829f-388ab286fefa",
   "metadata": {},
   "source": [
    "Ibland kan man inte bestämma integraler exakt utan man får nöja sig med att beräkna approximationer. Till exempel $\\int_0^1 e^{x^2} dx $ beräknas lämpligtvis med numeriska approximationer eftersom den primitiva funktionen till $e^{x^2}$ inte kan uttryckas i termer av [elementära funktioner](https://en.wikipedia.org/wiki/Elementary_function). Det kan också vara så att integranden bara är känd i vissa punkter, t.ex. om vi har en serie med mätdata.\n"
   ]
  },
  {
   "cell_type": "markdown",
   "id": "fbeed42a",
   "metadata": {},
   "source": [
    "## Beräkningsmetoder"
   ]
  },
  {
   "cell_type": "markdown",
   "id": "71650ad0-8a16-4d0f-9214-86ab9ba6f71c",
   "metadata": {},
   "source": [
    "Den geometriska tolkningen av integralen $\\int_a^b f(x)\\ dx$ är som arean av ytan mellan grafen av integranden, $y=f(x)$, och $x$-axeln, $y = 0$, för $x$ mellan $x = a$ och $x = b$.\n",
    "\n",
    "<center><img src=\"https://canvas.gu.se/files/5105261/download?download_frd=1\"></center>"
   ]
  },
  {
   "cell_type": "markdown",
   "id": "dd51ad2a",
   "metadata": {},
   "source": [
    "Vi gör en likformig indelning av intervallet $a \\leq x \\leq b$,\n",
    "$$a = x_0 < x_1 < x_2 < \\dots < x_{n−1} < x_n = b$$\n",
    "så att vi får $n$ lika långa delintervall $x_{i−1} ≤ x ≤ x_i$ med bredden $h =\n",
    "\\frac{b−a}{n}$.\n",
    "Sedan delar vi upp integralen i en summa av delintegraler över varje delintervall\n",
    "$$\\int^b_a f(x)\\ dx =\n",
    "\\sum^n_{i=1} \\int^{x_i}_{x_{i−1}} f(x)\\ dx.$$\n",
    "\n",
    "<center><img src=\"https://canvas.gu.se/files/5105262/download?download_frd=1\"></center>"
   ]
  },
  {
   "cell_type": "markdown",
   "id": "21e586b8",
   "metadata": {},
   "source": [
    "Om vi approximerar $f(x)$ med $f(x_{i−1})$ i intervallen $x_{i−1} ≤ x ≤ x_i$\n",
    "får vi **vänster rektangelregel**\n",
    "$$\\int^b_a f(x)\\ dx ≈ \\sum^n_{i=1} h f(x_{i−1}).$$\n",
    "\n",
    "<center><img src=\"https://canvas.gu.se/files/5105263/download?download_frd=1\"></center>"
   ]
  },
  {
   "cell_type": "markdown",
   "id": "3a548ac9",
   "metadata": {},
   "source": [
    "Om vi approximerar $f(x)$ med $f(x_i)$ i intervallen $x_{i−1} ≤ x ≤ x_i$\n",
    "får vi **höger rektangelregel**\n",
    "$$\\int^b_a f(x)\\ dx ≈ \\sum^n_{i=1} h f(x_i).$$\n",
    "\n",
    "<center><img src=\"https://canvas.gu.se/files/5105264/download?download_frd=1\"></center>"
   ]
  },
  {
   "cell_type": "markdown",
   "id": "a0d1c42c",
   "metadata": {},
   "source": [
    "Om vi approximerar $f(x)$ med $f(m_i)$ i intervallen $x_{i−1} ≤ x ≤ x_i$, där $m_i$ är mittpukterna i intervallen, får vi **mittpunktsmetoden** \n",
    "$$\\int^b_a f(x)\\ dx ≈ \\sum^n_{i=1} h f\\left(\\frac{x_{i−1} + x_i}{2}\\right).$$\n",
    "\n",
    "<center><img src=\"https://canvas.gu.se/files/5105265/download?download_frd=1\"></center>"
   ]
  },
  {
   "cell_type": "markdown",
   "id": "6b91988c",
   "metadata": {},
   "source": [
    "I Persson-Böiers kapitel 6.2 beskrivs hur integralen $\\int^b_a f(x)\\ dx$ kan approximeras med hjälp av Riemannsummor\n",
    "$\\sum^n_{i=1} f(c_i) h_i$. Metoderna ovan är olika varianter av Riemannsummor, med $c_i = x_{i−1}$, $c_i = x_i$ respektive $c_i = m_i$, och $h_i = h$."
   ]
  },
  {
   "cell_type": "markdown",
   "id": "a56dcb98",
   "metadata": {},
   "source": [
    "Vi kan också approximera integralen med medelvärdet av vänster och höger rektangelregel och\n",
    "får då **trapetsmetoden**\n",
    "$$\\int^b_a f(x)\\ dx ≈ \\sum^n_{i=1} \\frac{h}{2}(f(x_{i−1}) + f(x_i)).$$\n",
    "\n",
    "<center><img src=\"https://canvas.gu.se/files/5105266/download?download_frd=1\"></center>"
   ]
  },
  {
   "cell_type": "markdown",
   "id": "c9b952c4",
   "metadata": {},
   "source": [
    "Antag att vi vill beräkna $\\int^1_0 x \\sin(x)\\ dx$ med vänster rektangelregel med $n = 100$. Vi skulle kunna\n",
    "göra så här"
   ]
  },
  {
   "cell_type": "code",
   "execution_count": 2,
   "id": "67d31122",
   "metadata": {},
   "outputs": [
    {
     "name": "stdout",
     "output_type": "stream",
     "text": [
      "0.29697283883570513\n"
     ]
    }
   ],
   "source": [
    "from math import sin\n",
    "\n",
    "n=100\n",
    "f=lambda x : x*sin(x)\n",
    "a=0\n",
    "b=1\n",
    "h=(b-a)/n\n",
    "I=0\n",
    "for i in range(0,n):\n",
    "    x=a+i*h\n",
    "    I=I+h*f(x)\n",
    "print(I)"
   ]
  },
  {
   "cell_type": "markdown",
   "id": "82859a2e",
   "metadata": {},
   "source": [
    "Att använda en for-sats är oftast inte effektivt för beräkningar med många upprepningar. Vi bildar hellre en vektor av alla funktionsvärdena $f(x_i)$ och summerar sedan dessa enligt\n"
   ]
  },
  {
   "cell_type": "code",
   "execution_count": 3,
   "id": "75e3c882",
   "metadata": {},
   "outputs": [
    {
     "name": "stdout",
     "output_type": "stream",
     "text": [
      "0.29697283883570524\n"
     ]
    }
   ],
   "source": [
    "import numpy as np\n",
    "\n",
    "n=100\n",
    "f=lambda x : x*np.sin(x)\n",
    "a=0\n",
    "b=1\n",
    "x=np.linspace(a,b,n+1)\n",
    "h=(b-a)/n\n",
    "I=np.sum(h*f(x[0:n]))\n",
    "print(I)"
   ]
  },
  {
   "cell_type": "markdown",
   "id": "b44c16d3",
   "metadata": {},
   "source": [
    "Detta sätt att organisera en beräkning kallas att vektorisera den, dvs. man bildar först en eller\n",
    "flera vektorer och utför sedan den önskade beräkningen på dem. I Python görs detta lämpligen med ``ndarray`` från NumPy (se [Funktioner i Python, grafritning och numeriska beräkningar](https://canvas.gu.se/courses/45909/pages/funktioner-i-python-grafritning-och-numeriska-berakningar/)), där de elementvisa operationerna\n",
    "`+`,`*`,`/`,`**` såväl som andra [matematiska funktioner](https://numpy.org/doc/stable/reference/routines.math.html) som t.ex. `numpy.sin` är exempel på vektoriserade operationer. I exemplet ovan används även funktionen `numpy.sum` som snabbt summerar elementen i en ``ndarray``."
   ]
  },
  {
   "cell_type": "markdown",
   "id": "5a6c9ac0",
   "metadata": {},
   "source": [
    "\n",
    "**Uppgift 1** Beräkna en approximation av integralen $\\int^1_0\n",
    "x \\sin(x) dx$ med vänster och höger rektangelregel samt mittpunkts- och trapetsmetoderna. Använd `numpy.sum`."
   ]
  },
  {
   "cell_type": "code",
   "execution_count": 8,
   "id": "f43d2eea",
   "metadata": {},
   "outputs": [
    {
     "name": "stdout",
     "output_type": "stream",
     "text": [
      "vänster Integral =  0.29697283883570524\n",
      "höger Integral =  0.3053875486837842\n",
      "Mittpunktsmetoden Integral =  0.30116292151380075\n",
      "Trapezoid area T:  0.30118019375974475\n"
     ]
    },
    {
     "data": {
      "image/png": "[encoded data removed]",
      "text/plain": [
       "<Figure size 432x288 with 4 Axes>"
      ]
     },
     "metadata": {
      "needs_background": "light"
     },
     "output_type": "display_data"
    }
   ],
   "source": [
    "\n",
    "import matplotlib.pyplot as plt\n",
    "import numpy as np\n",
    "#import sympy as sy\n",
    "\n",
    "\n",
    "f = lambda x:x*np.sin(x)\n",
    "\n",
    "def calculate_dx (a, b, n):\n",
    "\treturn (b-a)/float(n)\n",
    "\n",
    "def leftEndPoint_rektangelregel(a,b,f,n): \n",
    "    \"\"\" over-estimation \"\"\"\n",
    "    h = calculate_dx(a,b,n) \n",
    "    x = np.linspace(a,b-h,n) #x_left\n",
    "    \n",
    "    I = np.sum(h*f(x[0:n]) )\n",
    "    print('vänster Integral = ', I)\n",
    "      \n",
    "    plt.subplot(2,2,1) # Skapa 4 fönster (2 rader och 2 kolumner) och aktivera första\n",
    "    \n",
    "    plt.title('Left Riemann Sum, N = {}'.format(n))\n",
    "    plt.ylabel('h-värdena') # Text längs y-axeln\n",
    "    plt.xlabel(' ')\n",
    "    \n",
    "    \n",
    "    plt.plot(x,f(x), 'r',markersize=10)\n",
    "    plt.bar(x,f(x),width = h ,color='pink',align='edge')\n",
    "    \n",
    "    plt.axhline(color ='black')\n",
    "    plt.fill_between(x, f(x),\n",
    "                     where = [(x >= a) and (x <= b) for x in x],\n",
    "                     color='yellow', alpha = 0.3 )\n",
    "      \n",
    "leftEndPoint_rektangelregel(0,1,f,100)\n",
    "    \n",
    "def Hoger_rektangelregel(a,b,f,n): \n",
    "    \"\"\" under-estimation \"\"\"\n",
    "    h = calculate_dx(a,b,n)\n",
    "    x = np.linspace(h,b,n) #x_right\n",
    "   \n",
    "    I = np.sum(h*f(x[0:n]))\n",
    "    print('höger Integral = ', I)\n",
    "    \n",
    "    plt.subplot(2,2,2) # Aktivera andra fönstret\n",
    "    \n",
    "    plt.title('Right Riemann Sum, N = {}'.format(n))\n",
    "    plt.xlabel(' ')\n",
    "    \n",
    "    plt.plot(x,f(x),'b',markersize=10)\n",
    "    plt.bar(x,f(x),width =-h, color='green',align='edge')   # width = (b-a)/n = h = calculate_dx\n",
    "    \n",
    "    plt.axhline(color ='black')\n",
    "    plt.fill_between(x, f(x),\n",
    "                     where = [(x >= a) and (x <= b) for x in x],\n",
    "                     color='red', alpha = 0.3 )\n",
    "    \n",
    "Hoger_rektangelregel(0,1,f,100)\n",
    "\n",
    "def Mittpunkts_metoden(a,b,f,n):\n",
    "\n",
    "    h = calculate_dx(a,b,n)\n",
    "    x = np.linspace(h/2,b-h/2,n) #Domain from a to b\n",
    "    \n",
    "    I = np.sum(f(x) * h)\n",
    "    print('Mittpunktsmetoden Integral = ', I)\n",
    "    \n",
    "    plt.subplot(2,2,3) # Aktivera andra fönstret\n",
    "    plt.title('\\n\\n\\n\\n')\n",
    "    plt.xlabel('Midpoint Riemann Sum, N = {}'.format(n))\n",
    "    \n",
    "    plt.plot(x,f(x),'y',markersize=10)\n",
    "    plt.bar(x,f(x),width = h,color='teal',edgecolor='teal')\n",
    "    \n",
    "    plt.axhline(color ='black')\n",
    "    plt.fill_between(x, f(x),\n",
    "                     where = [(x >= a) and (x <= b) for x in x],\n",
    "                     color='teal', alpha = 0.3 )\n",
    "    \n",
    "Mittpunkts_metoden(0,1,f,100)\n",
    "\n",
    "def Trapezoidal(a,b,f,n):\n",
    "    \n",
    "    x = np.linspace(a,b,n+1) # N+1 points make N subintervals\n",
    "    y = f(x)\n",
    "    \n",
    "    y_right = y[1:] # right endpoints array([0.1, 0.2, 0.3, 0.4, 0.5, 0.6, 0.7, 0.8, 0.9, 1. ])\n",
    "    y_left = y[:-1] # left endpoints array([0. , 0.1, 0.2, 0.3, 0.4, 0.5, 0.6, 0.7, 0.8, 0.9])\n",
    "    \n",
    "    dx = calculate_dx(a,b,n) \n",
    "    T = (dx/2) * np.sum(y_right + y_left)\n",
    "    #return T\n",
    "    print(\"Trapezoid area T: \", T)\n",
    "    \n",
    "    x = np.linspace(a,b,n)\n",
    "    plt.subplot(2,2,4) # Aktivera andra fönstret\n",
    "    plt.title('\\n\\n\\n\\n')\n",
    "    plt.xlabel('Trapezoidal Riemann Sum, N = {}'.format(n))\n",
    "    \n",
    "    plt.plot(x,f(x),'y',markersize=10)\n",
    "    plt.bar(x,f(x),width=dx,color='Orange',edgecolor='Orange')\n",
    "    plt.axhline(color ='black')\n",
    "    plt.fill_between(x, f(x),\n",
    "                     where = [(x >= a) and (x <= b) for x in x],\n",
    "                     color='teal', alpha = 0.3 )\n",
    "    \n",
    "Trapezoidal(0,1,f,100)\n",
    "# Skriv din kod här (eller i Spyder)."
   ]
  },
  {
   "cell_type": "markdown",
   "id": "8bcd6a23",
   "metadata": {},
   "source": [
    "\n",
    "**Uppgift 2**. Skriv en funktion med namnet `min_integral` som beräknar integralen $\\int^a_b f(x)\\ dx$ approximativt. Funktionen skall ha anropet `q=min_integral(f,a,b,n,k)`, där `n` ger antal delintervall (steglängden ges av $h = (b − a)/n$) och `k` ger metoden som skall användas ($k = 1, 2, 3, 4$\n",
    "ger vänster och höger rektangelregel, mittpunkts- och trapetsmetoderna respektive).\n"
   ]
  },
  {
   "cell_type": "code",
   "execution_count": 7,
   "id": "16ad7a63",
   "metadata": {},
   "outputs": [
    {
     "name": "stdout",
     "output_type": "stream",
     "text": [
      "===================== uppgift 2 ============================\n",
      "Left -Approximation- :  1.4400000000000002\n",
      "Right -Approximation-  :  2.16\n",
      "Midpunkts -Approximation-  :  1.7999999999999998\n",
      "Trapeziodal -Approximation-  :  2.0000000000000004\n",
      "============================================================\n"
     ]
    }
   ],
   "source": [
    "import matplotlib.pyplot as plt\n",
    "import numpy as np\n",
    "def calculate_dx (a, b, n):\n",
    "\treturn (b-a)/float(n)\n",
    "F = lambda x: x\n",
    "\n",
    "def min_integral(f,a,b,n,k):\n",
    "    dx = calculate_dx(a,b,n)\n",
    "    #x = np.linspace(a,b,n+1)\n",
    "    \n",
    "    if k == 1: #left\n",
    "        x = np.linspace(a,b-dx,n) #x_left\n",
    "        x_left = x[:-1]\n",
    "        print(\"Left -Approximation- : \",np.sum(f(x_left)*dx))\n",
    "    elif k == 2: #right\n",
    "        x = np.linspace(dx,b,n) #x_right\n",
    "        x_right = x[1:]\n",
    "        print(\"Right -Approximation-  : \",np.sum(f(x_right)*dx) )\n",
    "    elif k == 3: # midpunkts\n",
    "        x = np.linspace(dx/2,b-dx/2,n)\n",
    "        x_mid = (x[:-1] + x[1:])/2\n",
    "        print(\"Midpunkts -Approximation-  : \", np.sum(f(x_mid)*dx) )\n",
    "    elif k == 4: #trapeziodal\n",
    "        x = np.linspace(a,b,n+1) # N+1 points make N subintervals\n",
    "        y = f(x)\n",
    "        y_right = y[1:] # right endpoints \n",
    "        y_left = y[:-1] # left endpoints\n",
    "        print(\"Trapeziodal -Approximation-  : \", (dx/2) * np.sum(y_right + y_left) )\n",
    "    else:\n",
    "        raise ValueError(\"Method must be 'left', 'right' or 'midpoint'.\")\n",
    "\n",
    "print(\"===================== uppgift 2 ============================\")\n",
    "min_integral(F,a=0,b=2,n=10,k=1) # left\n",
    "min_integral(F,a=0,b=2,n=10,k=2) # right\n",
    "min_integral(F,a=0,b=2,n=10,k=3) # mid\n",
    "min_integral(F,a=0,b=2,n=10,k=4) # trapeziodal\n",
    "print(\"============================================================\")\n"
   ]
  },
  {
   "cell_type": "markdown",
   "id": "9436d366",
   "metadata": {},
   "source": [
    "**Uppgift 3**. Testa ditt program på följande integraler. Variera metodval och antal delintervall $n$.\n",
    "\n",
    "a. $\\int_0^1 e^{-x^2}\\ dx $\n",
    "\n",
    "b. $\\int_{-1}^1 \\frac{1}{1+x^2}\\ dx$\n",
    "\n",
    "c. $\\int_0^1 \\tan (\\sqrt{x})\\ dx$\n"
   ]
  },
  {
   "cell_type": "code",
   "execution_count": 14,
   "id": "6305bf35",
   "metadata": {},
   "outputs": [
    {
     "name": "stdout",
     "output_type": "stream",
     "text": [
      "===================== uppgift 3 ============================\n",
      "Left -uppgift_3a :  0.7333310174508831\n",
      "Right_uppgift_3a :  0.6155997848154048\n",
      "Midpunkts_uppgift_3a :  0.6778168240731774\n",
      "Trapeziodal_uppgift_3a  :  0.7462107961317495\n",
      "==========================================================\n",
      "==========================================================\n",
      "Left_upp_3b :  1.4455118373932998\n",
      "Right_upp_3b  :  1.276659928915536\n",
      "Midpunkts_upp_3b  :  1.4248409423153539\n",
      "Trapeziodal_upp_3b  :  1.567463056905495\n",
      "==========================================================\n",
      "==========================================================\n",
      "Left_upp_3c :  0.6336826471909022\n",
      "Right_upp_3c  :  0.8961524341819127\n",
      "Midpunkts_upp_3c  :  0.7731324732782575\n",
      "Trapeziodal_upp_3c  :  0.8510028595110027\n",
      "==========================================================\n"
     ]
    }
   ],
   "source": [
    "# Skriv din kod här (eller i Spyder).\n",
    "\n",
    "F_1 = lambda x:np.exp(-x**2)\n",
    "F_b = lambda x: 1/(1+x**2)\n",
    "F_c = lambda x: np.tan(x**0.5)\n",
    "\n",
    "print(\"===================== uppgift 3 ============================\")\n",
    "def min_integral_upp3(f,a,b,n,k):\n",
    "    dx = calculate_dx(a,b,n)\n",
    "    #x = np.linspace(a,b,n+1)\n",
    "    \n",
    "    if k == 1: #left\n",
    "        x = np.linspace(a,b-dx,n) #x_left\n",
    "        x_left = x[:-1]\n",
    "        \n",
    "        #return np.sum(f(x_left)*dx)\n",
    "        print(\"Left -uppgift_3a : \",np.sum(f(x_left)*dx))\n",
    "    elif k == 2: #right\n",
    "        x = np.linspace(dx,b,n) #x_right\n",
    "        x_right = x[1:]\n",
    "        #return np.sum(f(x_right)*dx)\n",
    "        print(\"Right_uppgift_3a : \",np.sum(f(x_right)*dx) )\n",
    "    elif k == 3: # midpunkts\n",
    "        x = np.linspace(dx/2,b-dx/2,n)\n",
    "        x_mid = (x[:-1] + x[1:])/2\n",
    "        #return np.sum(f(x_mid)*dx)\n",
    "        print(\"Midpunkts_uppgift_3a : \", np.sum(f(x_mid)*dx) )\n",
    "    elif k == 4: #trapeziodal\n",
    "        x = np.linspace(a,b,n+1) # N+1 points make N subintervals\n",
    "        y = f(x)\n",
    "        y_right = y[1:] # right endpoints \n",
    "        y_left = y[:-1] # left endpoints\n",
    "        #return (dx/2) * np.sum(y_right + y_left)\n",
    "        print(\"Trapeziodal_uppgift_3a  : \", (dx/2) * np.sum(y_right + y_left) )\n",
    "    else:\n",
    "        raise ValueError(\"Method must be 'left', 'right' or 'midpoint'.\")\n",
    "min_integral_upp3(F_1,a=0,b=1,n=10,k=1) # left\n",
    "min_integral_upp3(F_1,a=0,b=1,n=10,k=2) # right\n",
    "min_integral_upp3(F_1,a=0,b=1,n=10,k=3) # mid\n",
    "min_integral_upp3(F_1,a=0,b=1,n=10,k=4) # trapeziodal\"\"\"\n",
    "print(\"==========================================================\")\n",
    "\n",
    "print(\"==========================================================\")\n",
    "F_b = lambda x: 1/(1+x**2)\n",
    "def min_integral_upp3_b(f,a,b,n,k):\n",
    "    dx = calculate_dx(a,b,n)\n",
    "    #x = np.linspace(a,b,n+1)\n",
    "    \n",
    "    if k == 1: #left\n",
    "        x = np.linspace(a,b-dx,n) #x_left\n",
    "        x_left = x[:-1]\n",
    "        \n",
    "        #return np.sum(f(x_left)*dx)\n",
    "        print(\"Left_upp_3b : \",np.sum(f(x_left)*dx))\n",
    "    elif k == 2: #right\n",
    "        x = np.linspace(dx,b,n) #x_right\n",
    "        x_right = x[1:]\n",
    "        #return np.sum(f(x_right)*dx)\n",
    "        print(\"Right_upp_3b  : \",np.sum(f(x_right)*dx) )\n",
    "    elif k == 3: # midpunkts\n",
    "        x = np.linspace(dx/2,b-dx/2,n)\n",
    "        x_mid = (x[:-1] + x[1:])/2\n",
    "        #return np.sum(f(x_mid)*dx)\n",
    "        print(\"Midpunkts_upp_3b  : \", np.sum(f(x_mid)*dx) )\n",
    "    elif k == 4: #trapeziodal\n",
    "        x = np.linspace(a,b,n+1) # N+1 points make N subintervals\n",
    "        y = f(x)\n",
    "        y_right = y[1:] # right endpoints \n",
    "        y_left = y[:-1] # left endpoints\n",
    "        #return (dx/2) * np.sum(y_right + y_left)\n",
    "        print(\"Trapeziodal_upp_3b  : \", (dx/2) * np.sum(y_right + y_left) )\n",
    "    else:\n",
    "        raise ValueError(\"Method must be 'left', 'right' or 'midpoint'.\")\n",
    "min_integral_upp3_b(F_b,a=-1,b=1,n=10,k=1) # left\n",
    "min_integral_upp3_b(F_b,a=-1,b=1,n=10,k=2) # right\n",
    "min_integral_upp3_b(F_b,a=-1,b=1,n=10,k=3) # mid\n",
    "min_integral_upp3_b(F_b,a=-1,b=1,n=10,k=4) # trapeziodal\n",
    "print(\"==========================================================\")\n",
    "\n",
    "\n",
    "print(\"==========================================================\")\n",
    "F_c = lambda x: np.tan(x**0.5)\n",
    "def min_integral_upp3_c(f,a,b,n,k):\n",
    "    dx = calculate_dx(a,b,n)\n",
    "    #x = np.linspace(a,b,n+1)\n",
    "    \n",
    "    if k == 1: #left\n",
    "        x = np.linspace(a,b-dx,n) #x_left\n",
    "        x_left = x[:-1]\n",
    "        \n",
    "        #return np.sum(f(x_left)*dx)\n",
    "        print(\"Left_upp_3c : \",np.sum(f(x_left)*dx))\n",
    "    elif k == 2: #right\n",
    "        x = np.linspace(dx,b,n) #x_right\n",
    "        x_right = x[1:]\n",
    "        #return np.sum(f(x_right)*dx)\n",
    "        print(\"Right_upp_3c  : \",np.sum(f(x_right)*dx) )\n",
    "    elif k == 3: # midpunkts\n",
    "        x = np.linspace(dx/2,b-dx/2,n)\n",
    "        x_mid = (x[:-1] + x[1:])/2\n",
    "        #return np.sum(f(x_mid)*dx)\n",
    "        print(\"Midpunkts_upp_3c  : \", np.sum(f(x_mid)*dx) )\n",
    "    elif k == 4: #trapeziodal\n",
    "        x = np.linspace(a,b,n+1) # N+1 points make N subintervals\n",
    "        y = f(x)\n",
    "        y_right = y[1:] # right endpoints \n",
    "        y_left = y[:-1] # left endpoints\n",
    "        #return (dx/2) * np.sum(y_right + y_left)\n",
    "        print(\"Trapeziodal_upp_3c  : \", (dx/2) * np.sum(y_right + y_left) )\n",
    "    else:\n",
    "        raise ValueError(\"Method must be 'left', 'right' or 'midpoint'.\")\n",
    "min_integral_upp3_c(F_c,a=0,b=1,n=10,k=1) # left\n",
    "min_integral_upp3_c(F_c,a=0,b=1,n=10,k=2) # right\n",
    "min_integral_upp3_c(F_c,a=0,b=1,n=10,k=3) # mid\n",
    "min_integral_upp3_c(F_c,a=0,b=1,n=10,k=4) # trapeziodal\n",
    "print(\"==========================================================\")"
   ]
  },
  {
   "cell_type": "markdown",
   "id": "0c09443b-aa4f-443f-b86e-06dd03d7f1b6",
   "metadata": {},
   "source": [
    "## Konvergens"
   ]
  },
  {
   "cell_type": "markdown",
   "id": "4bb514c2-df05-49e1-8ac3-7cf65b1abe74",
   "metadata": {},
   "source": [
    "För metoderna ovan gäller att samtliga är konvergenta, dvs. låter vi antal delintervall $n$ gå mot oändligheten så går approximationerna mot integralens värde (om integranden är kontinuerlig). Vi illustrerar detta med några bilder för vänster rektangelregel där $n$ blir allt större.\n",
    "\n",
    "<center><img src=\"https://canvas.gu.se/files/5105267/download?download_frd=1\"></center>"
   ]
  },
  {
   "cell_type": "markdown",
   "id": "e64daee1",
   "metadata": {},
   "source": [
    "<center><img src=\"https://canvas.gu.se/files/5105268/download?download_frd=1\"></center>"
   ]
  },
  {
   "cell_type": "markdown",
   "id": "dd59851a",
   "metadata": {},
   "source": [
    "<center><img src=\"https://canvas.gu.se/files/5105269/download?download_frd=1\"></center>"
   ]
  },
  {
   "cell_type": "markdown",
   "id": "ddec2032",
   "metadata": {},
   "source": [
    "Vi ser att vi allt bättre täcker upp ytan under grafen med allt fler och smalare staplar.\n",
    "För användbara beräkningar behövs inte bara konvergens, utan man vill uppnå en bra approximation utan att behöva ta $n$ alltför stort, dels för att beräkningen inte skall kräva för mycket tid eller datorkapacitet, och dels för att med stora $n$ spelar avrundningsfel i numeriska beräkningar större roll.\n",
    "För vänster och höger rektangelregel gäller att felet beror högst linjärt på steglängden, dvs. om vi fördubblar antal delintervall så kan man vänta sig att felet halveras i approximationen av integralen. För mittpunkts- och trapetsmetoderna beror felet högst kvadratiskt på steglängden, dvs. vid fördubbling av antalet delintervall så kan man vänta sig att felet minskar med en faktor fyra."
   ]
  },
  {
   "cell_type": "markdown",
   "id": "d0746da6",
   "metadata": {},
   "source": [
    "**Uppgift 4** Vi betraktar integralen $\\int^1_0 x \\sin(x)\\ dx$ igen. Beräkna integralen exakt (för hand). Jämför exakt värde med de approximationer vi får med metoderna ovan för olika antal delintervall $n$. Hur stort blir felet? Tag t.ex först $n = 50$ och sedan $n = 100$, beräkna felen i approximationerna och se efter hur felen förändras."
   ]
  },
  {
   "cell_type": "code",
   "execution_count": 153,
   "id": "269de7c0",
   "metadata": {},
   "outputs": [],
   "source": [
    "# Skriv din kod här (eller i Spyder)."
   ]
  }
 ],
 "metadata": {
  "kernelspec": {
   "display_name": "Python 3",
   "language": "python",
   "name": "python3"
  },
  "language_info": {
   "codemirror_mode": {
    "name": "ipython",
    "version": 3
   },
   "file_extension": ".py",
   "mimetype": "text/x-python",
   "name": "python",
   "nbconvert_exporter": "python",
   "pygments_lexer": "ipython3",
   "version": "3.8.8"
  }
 },
 "nbformat": 4,
 "nbformat_minor": 5
}
